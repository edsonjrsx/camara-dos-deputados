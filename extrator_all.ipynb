{
 "cells": [
  {
   "cell_type": "code",
   "execution_count": 4,
   "metadata": {},
   "outputs": [],
   "source": [
    "from src.raw.extrator import Camara_Deputados_Extrator\n",
    "Camara_Deputados_Extrator().extract_all(2019, 2022)"
   ]
  },
  {
   "cell_type": "code",
   "execution_count": 2,
   "metadata": {},
   "outputs": [],
   "source": [
    "from src.raw.api import Camara_Deputados_API\n",
    "Camara_Deputados_API().extract_all()"
   ]
  }
 ],
 "metadata": {
  "kernelspec": {
   "display_name": "Python 3.10.8 64-bit (microsoft store)",
   "language": "python",
   "name": "python3"
  },
  "language_info": {
   "codemirror_mode": {
    "name": "ipython",
    "version": 3
   },
   "file_extension": ".py",
   "mimetype": "text/x-python",
   "name": "python",
   "nbconvert_exporter": "python",
   "pygments_lexer": "ipython3",
   "version": "3.10.8"
  },
  "orig_nbformat": 4,
  "vscode": {
   "interpreter": {
    "hash": "01bff4373481919a5e8a7a929c6015b71dc033ec10bba6380a3179581460aec6"
   }
  }
 },
 "nbformat": 4,
 "nbformat_minor": 2
}
