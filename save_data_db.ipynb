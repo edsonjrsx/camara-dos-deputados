{
 "cells": [
  {
   "cell_type": "code",
   "execution_count": 4,
   "metadata": {},
   "outputs": [],
   "source": [
    "import re\n",
    "import pandas as pd\n",
    "import numpy as np\n",
    "\n",
    "from pathlib import Path\n",
    "from sqlalchemy import create_engine\n",
    "from sqlalchemy.types import Integer, SmallInteger, BigInteger, Float, String, Date, Time, DateTime \n",
    "\n",
    "pd.set_option('display.max_colwidth', None)\n",
    "pd.set_option('display.max_columns', None)\n",
    "\n",
    "\n",
    "def connect_db(dbname, host, port, user, password):\n",
    "    conn_string = f'postgresql://{user}:{password}@{host}:{port}/{dbname}'\n",
    "    db = create_engine(conn_string)\n",
    "    return db.connect()\n",
    "\n",
    "def change_col_names(s: str) -> str:\n",
    "    s = s.strip()\n",
    "    s = ''.join([' '+s[i] if s[i].isupper() and (s[i-1].islower() if i>0 else False) else s[i] for i in range(len(s))]).lstrip(' ')\n",
    "    s = s.capitalize()\n",
    "    s = re.sub('[^a-zA-Z0-9]', '_', s)\n",
    "    return ''.join(['_'+i.lower() if i.isupper() else i for i in s]).lstrip('_')"
   ]
  },
  {
   "cell_type": "code",
   "execution_count": 5,
   "metadata": {},
   "outputs": [],
   "source": [
    "import os\n",
    "from dotenv import load_dotenv\n",
    "load_dotenv()\n",
    "\n",
    "HOST = 'camara-dos-deputados.cjdcxj8gvuxr.us-east-2.rds.amazonaws.com'\n",
    "DB = 'camara_deputados'\n",
    "LOGIN = os.environ['POSTGRES_USER']\n",
    "PASSWORD = os.environ['POSTGRES_PASS']\n",
    "\n",
    "db_connection = connect_db(\n",
    "        dbname=DB,\n",
    "        host=HOST,\n",
    "        port=\"5432\",\n",
    "        user=LOGIN,\n",
    "        password=PASSWORD\n",
    ")        "
   ]
  },
  {
   "cell_type": "code",
   "execution_count": 11,
   "metadata": {},
   "outputs": [
    {
     "data": {
      "text/plain": [
       "513"
      ]
     },
     "execution_count": 11,
     "metadata": {},
     "output_type": "execute_result"
    }
   ],
   "source": [
    "# Deputados\n",
    "df_deputados = pd.read_csv(Path(\"data/extrator_files/deputados.csv\"), sep=';')\n",
    "df_deputados.columns = [change_col_names(i) for i in df_deputados.columns]\n",
    "df_deputados.insert(0, 'id_deputado', df_deputados['uri'].str.split('/').str[-1])\n",
    "df_deputados.drop(columns=['uri', 'cpf', 'url_rede_social', 'url_website'], inplace=True)\n",
    "\n",
    "# Tratando tipos de dados\n",
    "df_deputados = df_deputados[df_deputados['id_legislatura_final'] == 56] # Legislatura 56 é a atual. TODO: Deixar dinâmico\n",
    "df_deputados['id_deputado'] = df_deputados['id_deputado'].astype(int)\n",
    "df_deputados['nome'] = df_deputados['nome'].str.title()\n",
    "df_deputados['nome_civil'] = df_deputados['nome_civil'].str.title()\n",
    "df_deputados['data_nascimento'] = pd.to_datetime(df_deputados['data_nascimento'], format='%Y-%m-%d')\n",
    "df_deputados['data_falecimento'] = pd.to_datetime(df_deputados['data_falecimento'], format='%Y-%m-%d')\n",
    "df_deputados['url_foto'] = df_deputados.agg(lambda x: f\"https://www.camara.leg.br/internet/deputado/bandep/{x['id_deputado']}.jpg\", axis=1)\n",
    "\n",
    "# Profissoes do deputado\n",
    "df_deputados_profissoes = pd.read_csv(Path(\"data/extrator_files/deputadosProfissoes.csv\"), sep=';')\n",
    "df_deputados_profissoes.columns = [change_col_names(i) for i in df_deputados_profissoes.columns]\n",
    "df_deputados_profissoes = df_deputados_profissoes[['id', 'titulo']]\n",
    "df_deputados_profissoes.rename(columns={\"id\": \"id_deputado\", \"titulo\": \"profissao\"}, inplace=True)\n",
    "df_deputados_profissoes = df_deputados_profissoes.groupby(\"id_deputado\").aggregate(lambda x: list(x))\n",
    "df_deputados_profissoes['profissao'] = df_deputados_profissoes['profissao'].apply(lambda x: ','.join(map(str, x)))\n",
    "df_deputados_profissoes['profissao'] = df_deputados_profissoes['profissao'].replace(\"nan\", None, regex=True)\n",
    "\n",
    "\n",
    "# Juntando profissoes com deputados\n",
    "df_deputados = df_deputados.merge(df_deputados_profissoes, on='id_deputado', how='inner')\n",
    "\n",
    "# Dados da API\n",
    "df_deputados_api = pd.read_json(Path(\"data/api_files/deputados.json\"), encoding = \"ISO-8859-1\")\n",
    "df_deputados_api.columns = [change_col_names(i) for i in df_deputados_api.columns]\n",
    "df_deputados_api['id_partido'] = df_deputados_api['uri_partido'].str.split('/').str[-1]\n",
    "df_deputados_api = df_deputados_api[['id','id_partido', 'sigla_partido', 'email']]\n",
    "df_deputados_api.rename(columns={\"id\": \"id_deputado\"}, inplace=True)\n",
    "\n",
    "# Juntados deputados com dados da API\n",
    "df_deputados = df_deputados.merge(df_deputados_api, on='id_deputado', how='inner')\n",
    "\n",
    "# Salvando dados\n",
    "dtypes_deputados = {\n",
    "    'id_deputado':Integer(),\n",
    "    'nome':String(),\n",
    "    'id_legislatura_inicial':Integer(),\n",
    "    'id_legislatura_final':Integer(),\n",
    "    'nome_civil':String(),\n",
    "    'sigla_sexo':String(),\n",
    "    'data_nascimento':Date(),\n",
    "    'data_falecimento':Date(),\n",
    "    'uf_nascimento':String(),\n",
    "    'municipio_nascimento':String(),\n",
    "    'profissao':String(),\n",
    "    'url_foto':String(),\n",
    "    'email':String(),\n",
    "    'id_partido':Integer(),\n",
    "    'sigla_partido':String(),\n",
    "}\n",
    "df_deputados= df_deputados[dtypes_deputados.keys()]\n",
    "\n",
    "nome_da_tabela = 'deputados'\n",
    "df_deputados.to_sql(con =db_connection,\n",
    "                    name=nome_da_tabela,\n",
    "                    if_exists='replace',\n",
    "                    index=False, \n",
    "                    method='multi',\n",
    "                    dtype=dtypes_deputados\n",
    ")\n"
   ]
  },
  {
   "cell_type": "code",
   "execution_count": 29,
   "metadata": {},
   "outputs": [
    {
     "data": {
      "text/plain": [
       "23"
      ]
     },
     "execution_count": 29,
     "metadata": {},
     "output_type": "execute_result"
    }
   ],
   "source": [
    "# Partidos\n",
    "df_partidos = pd.read_json(Path(\"data/api_files/partidos.json\"), encoding = \"ISO-8859-1\")\n",
    "df_partidos.columns = [change_col_names(i) for i in df_partidos.columns]\n",
    "df_partidos.drop(columns=['uri'], inplace=True)\n",
    "df_partidos.rename(columns={\"id\": \"id_partido\"}, inplace=True)\n",
    "\n",
    "df_partidos['id_partido'] = df_partidos['id_partido'].astype(int)\n",
    "\n",
    "dtypes_partidos = {\n",
    "    'id_partido':Integer(),\n",
    "    'sigla':String(),\n",
    "    'nome':String()\n",
    "}\n",
    "df_partidos= df_partidos[dtypes_partidos.keys()]\n",
    "\n",
    "nome_da_tabela = 'partidos'\n",
    "df_partidos.to_sql(con=db_connection,\n",
    "                    name=nome_da_tabela,\n",
    "                    if_exists='replace',\n",
    "                    index=False, \n",
    "                    method='multi',\n",
    "                    dtype=dtypes_partidos\n",
    ")"
   ]
  },
  {
   "cell_type": "code",
   "execution_count": 30,
   "metadata": {},
   "outputs": [
    {
     "data": {
      "text/plain": [
       "57"
      ]
     },
     "execution_count": 30,
     "metadata": {},
     "output_type": "execute_result"
    }
   ],
   "source": [
    "# Legislaturas\n",
    "df_legislaturas = pd.read_csv(Path(\"data/extrator_files/legislaturas.csv\"), sep=';')\n",
    "df_legislaturas.columns = [change_col_names(i) for i in df_legislaturas.columns]\n",
    "df_legislaturas.drop(columns=['uri'], inplace=True)\n",
    "\n",
    "df_legislaturas['id_legislatura'] = df_legislaturas['id_legislatura'].astype(int)\n",
    "df_legislaturas['ano_eleicao'] = df_legislaturas['ano_eleicao'].astype(int)\n",
    "df_legislaturas['data_inicio'] = pd.to_datetime(df_legislaturas['data_inicio'], format='%Y-%m-%d')\n",
    "df_legislaturas['data_fim'] = pd.to_datetime(df_legislaturas['data_fim'], format='%Y-%m-%d')\n",
    "\n",
    "dtypes_legislaturas = {\n",
    "    \"id_legislatura\": Integer(),\n",
    "    \"data_inicio\": Date(),\n",
    "    \"data_fim\": Date(),\n",
    "    \"ano_eleicao\": Integer()\n",
    "}\n",
    "df_legislaturas= df_legislaturas[dtypes_legislaturas.keys()]\n",
    "\n",
    "nome_da_tabela = 'legislaturas'\n",
    "df_legislaturas.to_sql(con=db_connection,\n",
    "                       name=nome_da_tabela,\n",
    "                       if_exists='replace',\n",
    "                       index=False,\n",
    "                       method='multi',\n",
    "                       dtype=dtypes_legislaturas)"
   ]
  },
  {
   "cell_type": "code",
   "execution_count": 31,
   "metadata": {},
   "outputs": [
    {
     "data": {
      "text/plain": [
       "3549"
      ]
     },
     "execution_count": 31,
     "metadata": {},
     "output_type": "execute_result"
    }
   ],
   "source": [
    "# Orgaos\n",
    "df_orgaos = pd.read_csv(Path(\"data/extrator_files/orgaos.csv\"), sep=';')\n",
    "\n",
    "df_orgaos.columns = [change_col_names(i) for i in df_orgaos.columns]\n",
    "df_orgaos.insert(0, 'id_orgao', df_orgaos['uri'].str.split('/').str[-1])\n",
    "droped_cols = ['uri', 'nome_publicacao', 'cod_tipo_orgao', 'data_instalacao', 'data_fim_original', 'cod_situacao', 'url_website']\n",
    "df_orgaos.drop(columns=droped_cols, inplace=True)\n",
    "\n",
    "df_orgaos.rename(columns={\"nome\": \"descricao\", \"apelido\": \"nome\", \"descricao_situacao\": \"situacao\"}, inplace=True)\n",
    "df_orgaos['data_inicio'] = pd.to_datetime(df_orgaos['data_inicio'], format='%Y-%m-%d')\n",
    "df_orgaos['data_fim'] = pd.to_datetime(df_orgaos['data_fim'], format='%Y-%m-%d')\n",
    "\n",
    "dtypes_orgaos = {\n",
    "    'id_orgao':Integer(),\n",
    "    'sigla':String(),\n",
    "    'nome':String(),\n",
    "    'descricao':String(),\n",
    "    'tipo_orgao':String(),\n",
    "    'data_inicio':Date(),\n",
    "    'data_fim':Date(),\n",
    "    'situacao':String(),\n",
    "    'casa':String(),\n",
    "    'sala':String()\n",
    "}\n",
    "df_orgaos = df_orgaos[dtypes_orgaos.keys()]\n",
    "\n",
    "nome_da_tabela = 'orgaos'\n",
    "df_orgaos.to_sql(con=db_connection,\n",
    "                       name=nome_da_tabela,\n",
    "                       if_exists='replace',\n",
    "                       index=False,\n",
    "                       method='multi',\n",
    "                       dtype=dtypes_orgaos\n",
    ")"
   ]
  },
  {
   "cell_type": "code",
   "execution_count": 32,
   "metadata": {},
   "outputs": [
    {
     "data": {
      "text/plain": [
       "14452"
      ]
     },
     "execution_count": 32,
     "metadata": {},
     "output_type": "execute_result"
    }
   ],
   "source": [
    "# Orgaos - Deputados\n",
    "df_orgaos_deputados = pd.read_csv(Path(\"data/extrator_files/orgaosDeputados.csv\"), sep=';')\n",
    "df_orgaos_deputados.columns = [change_col_names(i) for i in df_orgaos_deputados.columns]\n",
    "df_orgaos_deputados.insert(0, 'id_orgao', df_orgaos_deputados['uri_orgao'].str.split('/').str[-1])\n",
    "df_orgaos_deputados.insert(0, 'id_deputado', df_orgaos_deputados['uri_deputado'].str.split('/').str[-1])\n",
    "df_orgaos_deputados = df_orgaos_deputados[['id_orgao', 'id_deputado', 'cargo', 'data_inicio', 'data_fim']]\n",
    "\n",
    "df_orgaos_deputados['data_inicio'] = pd.to_datetime(df_orgaos_deputados['data_inicio'], format='%Y-%m-%d')\n",
    "df_orgaos_deputados['data_fim'] = pd.to_datetime(df_orgaos_deputados['data_fim'], format='%Y-%m-%d')\n",
    "\n",
    "dtypes_orgaos_deputados = {\n",
    "    'id_orgao':Integer(),\n",
    "    'id_deputado':Integer(),\n",
    "    'cargo':String(),\n",
    "    'data_inicio':Date(),\n",
    "    'data_fim':Date()\n",
    "}\n",
    "df_orgaos_deputados = df_orgaos_deputados[dtypes_orgaos_deputados.keys()]\n",
    "\n",
    "nome_da_tabela = 'deputado_ocupacao_orgao'\n",
    "df_orgaos_deputados.to_sql(con=db_connection,\n",
    "                       name=nome_da_tabela,\n",
    "                       if_exists='replace',\n",
    "                       index=False,\n",
    "                       method='multi',\n",
    "                       dtype=dtypes_orgaos_deputados\n",
    ")"
   ]
  },
  {
   "cell_type": "code",
   "execution_count": 33,
   "metadata": {},
   "outputs": [
    {
     "data": {
      "text/plain": [
       "9320"
      ]
     },
     "execution_count": 33,
     "metadata": {},
     "output_type": "execute_result"
    }
   ],
   "source": [
    "# Eventos\n",
    "df_eventos = pd.read_csv(Path(\"data/extrator_files/eventos.csv\"), sep=';')\n",
    "df_eventos.columns = [change_col_names(i) for i in df_eventos.columns]\n",
    "droped_cols = ['uri',\n",
    "               'local_externo',\n",
    "               'local_camara_nome',\n",
    "               'local_camara_predio',\n",
    "               'local_camara_sala',\n",
    "               'local_camara_andar'\n",
    "]\n",
    "df_eventos.drop(columns=droped_cols, inplace=True)\n",
    "\n",
    "df_eventos.rename(columns={\"id\": \"id_evento\", \"data_hora_inicio\": \"datetime_inicio\", \"data_hora_fim\": \"datetime_fim\"}, inplace=True)\n",
    "df_eventos['datetime_inicio'] = pd.to_datetime(df_eventos['datetime_inicio'], format='%Y-%m-%dT%H:%M:%S')\n",
    "df_eventos['datetime_fim'] = pd.to_datetime(df_eventos['datetime_fim'], format='%Y-%m-%dT%H:%M:%S')\n",
    "\n",
    "dtypes_eventos = {\n",
    "    'id_evento':Integer(),\n",
    "    'situacao':String(),\n",
    "    'descricao_tipo':String(),\n",
    "    'descricao':String(),\n",
    "    'datetime_inicio':DateTime(),\n",
    "    'datetime_fim':DateTime(),\n",
    "    'url_documento_pauta':String()\n",
    "}\n",
    "df_eventos = df_eventos[dtypes_eventos.keys()]\n",
    "\n",
    "nome_da_tabela = 'eventos'\n",
    "df_eventos.to_sql(con=db_connection,\n",
    "                       name=nome_da_tabela,\n",
    "                       if_exists='replace',\n",
    "                       index=False,\n",
    "                       method='multi',\n",
    "                       dtype=dtypes_eventos\n",
    ")"
   ]
  },
  {
   "cell_type": "code",
   "execution_count": 34,
   "metadata": {},
   "outputs": [
    {
     "data": {
      "text/plain": [
       "434854"
      ]
     },
     "execution_count": 34,
     "metadata": {},
     "output_type": "execute_result"
    }
   ],
   "source": [
    "# Eventos deputados\n",
    "df_eventos_deputados = pd.read_csv(Path(\"data/extrator_files/eventosPresencaDeputados.csv\"), sep=';')\n",
    "df_eventos_deputados.columns = [change_col_names(i) for i in df_eventos_deputados.columns]\n",
    "df_eventos_deputados = df_eventos_deputados[['id_evento', 'id_deputado', 'data_hora_inicio']]\n",
    "\n",
    "df_eventos_deputados.rename(columns={\"data_hora_inicio\": \"datetime_inicio\"}, inplace=True)\n",
    "df_eventos_deputados['datetime_inicio'] = pd.to_datetime(df_eventos_deputados['datetime_inicio'], format='%Y-%m-%dT%H:%M:%S')\n",
    "\n",
    "dtypes_eventos_deputados = {\n",
    "    'id_evento':Integer(),\n",
    "    'id_deputado':Integer(),\n",
    "    'datetime_inicio':DateTime()\n",
    "}\n",
    "df_eventos_deputados = df_eventos_deputados[dtypes_eventos_deputados.keys()]\n",
    "\n",
    "nome_da_tabela = 'deputado_presenca_evento'\n",
    "df_eventos_deputados.to_sql(con=db_connection,\n",
    "                       name=nome_da_tabela,\n",
    "                       if_exists='replace',\n",
    "                       index=False,\n",
    "                       method='multi',\n",
    "                       dtype=dtypes_eventos_deputados\n",
    ")"
   ]
  },
  {
   "cell_type": "code",
   "execution_count": 35,
   "metadata": {},
   "outputs": [
    {
     "data": {
      "text/plain": [
       "25170"
      ]
     },
     "execution_count": 35,
     "metadata": {},
     "output_type": "execute_result"
    }
   ],
   "source": [
    "# Votacoes\n",
    "df_votacoes = pd.read_csv(Path(\"data/extrator_files/votacoes.csv\"), sep=';')\n",
    "df_votacoes.columns = [change_col_names(i) for i in df_votacoes.columns]\n",
    "droped_cols = ['uri',\n",
    "               'data_hora_registro',\n",
    "               'uri_orgao',\n",
    "               'sigla_orgao',\n",
    "               'uri_evento',\n",
    "               'ultima_abertura_votacao_data_hora_registro',\n",
    "               'ultima_abertura_votacao_descricao',\n",
    "               'ultima_apresentacao_proposicao_data_hora_registro',\n",
    "               'ultima_apresentacao_proposicao_descricao',\n",
    "               'ultima_apresentacao_proposicao_uri_proposicao',\n",
    "]\n",
    "df_votacoes.drop(columns=droped_cols, inplace=True)\n",
    "\n",
    "df_votacoes.rename(columns={\"id\": \"id_votacao\", \"data\": \"data_votacao\", \"aprovacao\": \"aprovado\", \"ultima_apresentacao_proposicao_id_proposicao\":\"ultima_proposicao_id\"}, inplace=True)\n",
    "df_votacoes['data_votacao'] = pd.to_datetime(df_votacoes['data_votacao'], format='%Y-%m-%d')\n",
    "df_votacoes['ultima_proposicao_id'] = df_votacoes['ultima_proposicao_id'].replace('0', np.nan)\n",
    "\n",
    "dtypes_votacoes = {\n",
    "    'id_votacao':String(),\n",
    "    'aprovado':Integer(),\n",
    "    'votos_sim':Integer(),\n",
    "    'votos_nao':Integer(),\n",
    "    'votos_outros':Integer(),\n",
    "    'descricao':String(),\n",
    "    'data_votacao':Date(),\n",
    "    'id_orgao':Integer(),\n",
    "    'id_evento':Integer(),\n",
    "    'ultima_proposicao_id':Integer()\n",
    "}\n",
    "df_votacoes = df_votacoes[dtypes_votacoes.keys()]\n",
    "\n",
    "nome_da_tabela = 'votacoes'\n",
    "df_votacoes.to_sql(con=db_connection,\n",
    "                       name=nome_da_tabela,\n",
    "                       if_exists='replace',\n",
    "                       index=False,\n",
    "                       method='multi',\n",
    "                       dtype=dtypes_votacoes\n",
    ")"
   ]
  },
  {
   "cell_type": "code",
   "execution_count": 36,
   "metadata": {},
   "outputs": [
    {
     "data": {
      "text/plain": [
       "781147"
      ]
     },
     "execution_count": 36,
     "metadata": {},
     "output_type": "execute_result"
    }
   ],
   "source": [
    "#Votações deputados\n",
    "df_votacoes_deputados = pd.read_csv(Path(\"data/extrator_files/votacoesVotos.csv\"), sep=';')\n",
    "df_votacoes_deputados.columns = [change_col_names(i) for i in df_votacoes_deputados.columns]\n",
    "droped_cols = ['uri_votacao',\n",
    "               'deputado_uri',\n",
    "               'deputado_nome',\n",
    "               'deputado_sigla_partido',\n",
    "               'deputado_uri_partido',\n",
    "               'deputado_sigla_uf',\n",
    "               'deputado_id_legislatura',\n",
    "               'deputado_url_foto',\n",
    "]\n",
    "df_votacoes_deputados.drop(columns=droped_cols, inplace=True)\n",
    "\n",
    "df_votacoes_deputados.rename(columns={\"data_hora_voto\": \"datetime_voto\", \"deputado_id\":\"id_deputado\"}, inplace=True)\n",
    "df_votacoes_deputados['datetime_voto'] = pd.to_datetime(df_votacoes_deputados['datetime_voto'], format='%Y-%m-%dT%H:%M:%S')\n",
    "\n",
    "dtypes_votacoes_deputados = {\n",
    "    'id_votacao':String(),\n",
    "    'id_deputado':Integer(),\n",
    "    'voto':String(),\n",
    "    'datetime_voto':DateTime()\n",
    "}\n",
    "df_votacoes_deputados = df_votacoes_deputados[dtypes_votacoes_deputados.keys()]\n",
    "\n",
    "nome_da_tabela = 'deputado_voto_votacoes'\n",
    "df_votacoes_deputados.to_sql(con=db_connection,\n",
    "                       name=nome_da_tabela,\n",
    "                       if_exists='replace',\n",
    "                       index=False,\n",
    "                       method='multi',\n",
    "                       dtype=dtypes_votacoes_deputados\n",
    ")"
   ]
  },
  {
   "cell_type": "code",
   "execution_count": 37,
   "metadata": {},
   "outputs": [
    {
     "data": {
      "text/plain": [
       "352"
      ]
     },
     "execution_count": 37,
     "metadata": {},
     "output_type": "execute_result"
    }
   ],
   "source": [
    "# Frentes Parlamentares\n",
    "df_frentes = pd.read_csv(Path(\"data/extrator_files/frentes.csv\"), sep=';')\n",
    "df_frentes.columns = [change_col_names(i) for i in df_frentes.columns]\n",
    "df_frentes = df_frentes[df_frentes['id_legislatura'] == 56]\n",
    "df_frentes = df_frentes[['id', 'titulo', 'data_criacao', 'coordenador_id']]\n",
    "\n",
    "\n",
    "df_frentes.rename(columns={\"id\": \"frente_id\", \"coordenador_id\":\"deputado_coordenador_id\"}, inplace=True)\n",
    "df_frentes['data_criacao'] = pd.to_datetime(df_frentes['data_criacao'], format='%Y-%m-%d')\n",
    "\n",
    "dtypes_frentes = {\n",
    "    'frente_id':Integer(),\n",
    "    'titulo':String(),\n",
    "    'data_criacao':Date(),\n",
    "    'deputado_coordenador_id':Integer()\n",
    "}\n",
    "df_frentes = df_frentes[dtypes_frentes.keys()]\n",
    "\n",
    "nome_da_tabela = 'frentes_parlamentares'\n",
    "df_frentes.to_sql(con=db_connection,\n",
    "                       name=nome_da_tabela,\n",
    "                       if_exists='replace',\n",
    "                       index=False,\n",
    "                       method='multi',\n",
    "                       dtype=dtypes_frentes\n",
    ")"
   ]
  },
  {
   "cell_type": "code",
   "execution_count": 38,
   "metadata": {},
   "outputs": [
    {
     "data": {
      "text/plain": [
       "75593"
      ]
     },
     "execution_count": 38,
     "metadata": {},
     "output_type": "execute_result"
    }
   ],
   "source": [
    "# Frentes Parlamentares\n",
    "df_frentes_deputados = pd.read_csv(Path(\"data/extrator_files/frentesDeputados.csv\"), sep=';')\n",
    "df_frentes_deputados.columns = [change_col_names(i) for i in df_frentes_deputados.columns]\n",
    "df_frentes_deputados = df_frentes_deputados[df_frentes_deputados['deputado__id_legislatura'] == 56]\n",
    "df_frentes_deputados = df_frentes_deputados[['id', 'deputado__id', 'deputado__titulo']]\n",
    "df_frentes_deputados.rename(columns={\"id\": \"frente_id\", \"deputado__id\":\"deputado_id\", \"deputado__titulo\":\"deputado_cargo\"}, inplace=True)\n",
    "\n",
    "dtypes_frentes_deputados = {\n",
    "    'frente_id':Integer(),\n",
    "    'deputado_id':Integer(),\n",
    "    'deputado_cargo':String()\n",
    "}\n",
    "df_frentes_deputados = df_frentes_deputados[dtypes_frentes_deputados.keys()]\n",
    "\n",
    "nome_da_tabela = 'deputado_ocupacao_frente'\n",
    "df_frentes_deputados.to_sql(con=db_connection,\n",
    "                       name=nome_da_tabela,\n",
    "                       if_exists='replace',\n",
    "                       index=False,\n",
    "                       method='multi',\n",
    "                       dtype=dtypes_frentes_deputados\n",
    ")"
   ]
  },
  {
   "cell_type": "code",
   "execution_count": 39,
   "metadata": {},
   "outputs": [
    {
     "data": {
      "text/plain": [
       "75593"
      ]
     },
     "execution_count": 39,
     "metadata": {},
     "output_type": "execute_result"
    }
   ],
   "source": [
    "# Frentes Parlamentares\n",
    "df_frentes_deputados = pd.read_csv(Path(\"data/extrator_files/frentesDeputados.csv\"), sep=';')\n",
    "df_frentes_deputados.columns = [change_col_names(i) for i in df_frentes_deputados.columns]\n",
    "df_frentes_deputados = df_frentes_deputados[df_frentes_deputados['deputado__id_legislatura'] == 56]\n",
    "df_frentes_deputados = df_frentes_deputados[['id', 'deputado__id', 'deputado__titulo']]\n",
    "df_frentes_deputados.rename(columns={\"id\": \"frente_id\", \"deputado__id\":\"deputado_id\", \"deputado__titulo\":\"deputado_cargo\"}, inplace=True)\n",
    "\n",
    "dtypes_frentes_deputados = {\n",
    "    'frente_id':Integer(),\n",
    "    'deputado_id':Integer(),\n",
    "    'deputado_cargo':String()\n",
    "}\n",
    "df_frentes_deputados = df_frentes_deputados[dtypes_frentes_deputados.keys()]\n",
    "\n",
    "nome_da_tabela = 'deputado_ocupacao_frente'\n",
    "df_frentes_deputados.to_sql(con=db_connection,\n",
    "                       name=nome_da_tabela,\n",
    "                       if_exists='replace',\n",
    "                       index=False,\n",
    "                       method='multi',\n",
    "                       dtype=dtypes_frentes_deputados\n",
    ")"
   ]
  },
  {
   "cell_type": "code",
   "execution_count": 4,
   "metadata": {},
   "outputs": [
    {
     "name": "stderr",
     "output_type": "stream",
     "text": [
      "C:\\Users\\Edson Junior\\AppData\\Local\\Temp\\ipykernel_15244\\3360215363.py:1: DtypeWarning: Columns (8,9,14,19,23) have mixed types. Specify dtype option on import or set low_memory=False.\n",
      "  df_proposicoes = pd.read_csv(Path(\"data/extrator_files/proposicoes.csv\"), sep=';')\n",
      "C:\\Users\\Edson Junior\\AppData\\Local\\Temp\\ipykernel_15244\\3360215363.py:24: SettingWithCopyWarning: \n",
      "A value is trying to be set on a copy of a slice from a DataFrame.\n",
      "Try using .loc[row_indexer,col_indexer] = value instead\n",
      "\n",
      "See the caveats in the documentation: https://pandas.pydata.org/pandas-docs/stable/user_guide/indexing.html#returning-a-view-versus-a-copy\n",
      "  df_proposicoes['id_proposicao_principal'] = df_proposicoes['uri_prop_principal'].str.split('/').str[-1]\n",
      "C:\\Users\\Edson Junior\\AppData\\Local\\Temp\\ipykernel_15244\\3360215363.py:25: SettingWithCopyWarning: \n",
      "A value is trying to be set on a copy of a slice from a DataFrame.\n",
      "Try using .loc[row_indexer,col_indexer] = value instead\n",
      "\n",
      "See the caveats in the documentation: https://pandas.pydata.org/pandas-docs/stable/user_guide/indexing.html#returning-a-view-versus-a-copy\n",
      "  df_proposicoes['datetime_apresentacao'] = pd.to_datetime(df_proposicoes['data_apresentacao'], format='%Y-%m-%dT%H:%M:%S')\n",
      "C:\\Users\\Edson Junior\\AppData\\Local\\Temp\\ipykernel_15244\\3360215363.py:26: SettingWithCopyWarning: \n",
      "A value is trying to be set on a copy of a slice from a DataFrame.\n",
      "Try using .loc[row_indexer,col_indexer] = value instead\n",
      "\n",
      "See the caveats in the documentation: https://pandas.pydata.org/pandas-docs/stable/user_guide/indexing.html#returning-a-view-versus-a-copy\n",
      "  df_proposicoes['ultimo_status_datetime'] = pd.to_datetime(df_proposicoes['ultimo_status_data_hora'], format='%Y-%m-%dT%H:%M:%S')\n",
      "C:\\Users\\Edson Junior\\AppData\\Local\\Temp\\ipykernel_15244\\3360215363.py:27: SettingWithCopyWarning: \n",
      "A value is trying to be set on a copy of a slice from a DataFrame\n",
      "\n",
      "See the caveats in the documentation: https://pandas.pydata.org/pandas-docs/stable/user_guide/indexing.html#returning-a-view-versus-a-copy\n",
      "  df_proposicoes.rename(columns={\"id\": \"id_proposicao\", \"ano\": \"ano_apresentacao\"}, inplace=True)\n"
     ]
    }
   ],
   "source": [
    "df_proposicoes = pd.read_csv(Path(\"data/extrator_files/proposicoes.csv\"), sep=';')\n",
    "df_proposicoes.columns = [change_col_names(i) for i in df_proposicoes.columns]\n",
    "proposicoes_cols = [\n",
    "    'id',\n",
    "    'sigla_tipo',\n",
    "    'descricao_tipo',\n",
    "    'ano',\n",
    "    'ementa',\n",
    "    'ementa_detalhada',\n",
    "    'keywords',\n",
    "    'data_apresentacao',\n",
    "    'uri_prop_principal',\n",
    "    'url_inteiro_teor',\n",
    "    'ultimo_status_data_hora',\n",
    "    'ultimo_status_sequencia',\n",
    "    'ultimo_status_id_orgao',\n",
    "    'ultimo_status_regime',\n",
    "    'ultimo_status_descricao_tramitacao',\n",
    "    'ultimo_status_descricao_situacao',\n",
    "    'ultimo_status_despacho',\n",
    "    'ultimo_status_url'\n",
    "]\n",
    "df_proposicoes = df_proposicoes[proposicoes_cols]\n",
    "df_proposicoes['id_proposicao_principal'] = df_proposicoes['uri_prop_principal'].str.split('/').str[-1]\n",
    "df_proposicoes['datetime_apresentacao'] = pd.to_datetime(df_proposicoes['data_apresentacao'], format='%Y-%m-%dT%H:%M:%S')\n",
    "df_proposicoes['ultimo_status_datetime'] = pd.to_datetime(df_proposicoes['ultimo_status_data_hora'], format='%Y-%m-%dT%H:%M:%S')\n",
    "df_proposicoes.rename(columns={\"id\": \"id_proposicao\", \"ano\": \"ano_apresentacao\"}, inplace=True)\n",
    "\n",
    "# Pegando os temas da proposicoes\n",
    "df_proposicoes_temas = pd.read_csv(Path(\"data/extrator_files/proposicoesTemas.csv\"), sep=';')\n",
    "df_proposicoes_temas.columns = [change_col_names(i) for i in df_proposicoes_temas.columns]\n",
    "df_proposicoes_temas.insert(0, 'id_proposicao', df_proposicoes_temas['uri_proposicao'].str.split('/').str[-1])\n",
    "df_proposicoes_temas['id_proposicao'] = df_proposicoes_temas['id_proposicao'].astype('Int64')\n",
    "df_proposicoes_temas = df_proposicoes_temas[['id_proposicao', 'cod_tema', 'tema']]\n",
    "\n",
    "# Juntados deputados com dados dos temas\n",
    "df_proposicoes = df_proposicoes.merge(df_proposicoes_temas, on='id_proposicao', how='left')\n",
    "\n",
    "# Pegando os dados dos autores das proposicoes\n",
    "df_proposicoes_autores = pd.read_csv(Path(\"data/extrator_files/proposicoesAutores.csv\"), sep=';')\n",
    "df_proposicoes_autores.columns = [change_col_names(i) for i in df_proposicoes_autores.columns]\n",
    "df_proposicoes_autores['id_deputado_autor'] = df_proposicoes_autores['id_deputado_autor']\n",
    "df_proposicoes_autores = df_proposicoes_autores[['id_proposicao', 'id_deputado_autor', 'tipo_autor', 'nome_autor']]\n",
    "df_proposicoes_autores\n",
    "\n",
    "# Juntados deputados con autores\n",
    "df_proposicoes = df_proposicoes.merge(df_proposicoes_autores, on='id_proposicao', how='left')\n",
    "\n",
    "# Salvando dados\n",
    "dtypes_proposicoes = {\n",
    "    'id_proposicao':Integer(),\n",
    "    'sigla_tipo':String(),\n",
    "    'descricao_tipo':String(),\n",
    "    'ementa':String(),\n",
    "    'ementa_detalhada':String(),\n",
    "    'cod_tema':Integer(),\n",
    "    'tema':String(),\n",
    "    'keywords':String(),\n",
    "    'id_deputado_autor':Integer(),\n",
    "    'tipo_autor':String(),\n",
    "    'nome_autor':String(),\n",
    "    'datetime_apresentacao':DateTime(),\n",
    "    'ano_apresentacao':Integer(),\n",
    "    'id_proposicao_principal':Integer(),\n",
    "    'url_inteiro_teor':String(),\n",
    "    'ultimo_status_datetime':DateTime(),\n",
    "    'ultimo_status_sequencia':Integer(),\n",
    "    'ultimo_status_id_orgao':Integer(),\n",
    "    'ultimo_status_regime':String(),\n",
    "    'ultimo_status_descricao_tramitacao':String(),\n",
    "    'ultimo_status_descricao_situacao':String(),\n",
    "    'ultimo_status_despacho':String(),\n",
    "    'ultimo_status_url':String(),\n",
    "}\n",
    "df_proposicoes= df_proposicoes[dtypes_proposicoes.keys()]\n",
    "\n"
   ]
  },
  {
   "cell_type": "code",
   "execution_count": 7,
   "metadata": {},
   "outputs": [
    {
     "data": {
      "text/plain": [
       "(349273, 23)"
      ]
     },
     "execution_count": 7,
     "metadata": {},
     "output_type": "execute_result"
    }
   ],
   "source": [
    "df_proposicoes.shape"
   ]
  },
  {
   "cell_type": "code",
   "execution_count": 8,
   "metadata": {},
   "outputs": [
    {
     "data": {
      "text/plain": [
       "349273"
      ]
     },
     "execution_count": 8,
     "metadata": {},
     "output_type": "execute_result"
    }
   ],
   "source": [
    "nome_da_tabela = 'proposicoes'\n",
    "df_proposicoes.to_sql(con =db_connection,\n",
    "                    name=nome_da_tabela,\n",
    "                    if_exists='replace',\n",
    "                    index=False, \n",
    "                    method='multi',\n",
    "                    dtype=dtypes_proposicoes,\n",
    "                    chunksize=10000\n",
    ")"
   ]
  }
 ],
 "metadata": {
  "kernelspec": {
   "display_name": "Python 3.10.8 64-bit (microsoft store)",
   "language": "python",
   "name": "python3"
  },
  "language_info": {
   "codemirror_mode": {
    "name": "ipython",
    "version": 3
   },
   "file_extension": ".py",
   "mimetype": "text/x-python",
   "name": "python",
   "nbconvert_exporter": "python",
   "pygments_lexer": "ipython3",
   "version": "3.10.8"
  },
  "orig_nbformat": 4,
  "vscode": {
   "interpreter": {
    "hash": "01bff4373481919a5e8a7a929c6015b71dc033ec10bba6380a3179581460aec6"
   }
  }
 },
 "nbformat": 4,
 "nbformat_minor": 2
}
